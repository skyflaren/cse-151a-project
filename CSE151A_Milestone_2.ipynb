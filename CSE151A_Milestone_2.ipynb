{
  "cells": [
    {
      "cell_type": "markdown",
      "metadata": {
        "id": "view-in-github",
        "colab_type": "text"
      },
      "source": [
        "<a href=\"https://colab.research.google.com/github/skyflaren/cse-151a-project/blob/main/CSE151A_Milestone_2.ipynb\" target=\"_parent\"><img src=\"https://colab.research.google.com/assets/colab-badge.svg\" alt=\"Open In Colab\"/></a>"
      ]
    },
    {
      "cell_type": "code",
      "execution_count": null,
      "metadata": {
        "id": "Bwksr8cZ1DLV"
      },
      "outputs": [],
      "source": [
        "import pandas as pd\n",
        "import numpy as np\n",
        "import matplotlib.pyplot as plt\n",
        "import seaborn as sns"
      ]
    },
    {
      "cell_type": "code",
      "execution_count": null,
      "metadata": {
        "colab": {
          "base_uri": "https://localhost:8080/",
          "height": 707
        },
        "id": "U1E8cTMz1IhM",
        "outputId": "30f2d88c-dd80-48ef-9f03-deead60b302e"
      },
      "outputs": [
        {
          "output_type": "execute_result",
          "data": {
            "text/plain": [
              "                   id                                               name  \\\n",
              "0             1312228         Rental unit in Brooklyn · ★5.0 · 1 bedroom   \n",
              "1            45277537  Rental unit in New York · ★4.67 · 2 bedrooms ·...   \n",
              "2  971353993633883038  Rental unit in New York · ★4.17 · 1 bedroom · ...   \n",
              "3             3857863  Rental unit in New York · ★4.64 · 1 bedroom · ...   \n",
              "4            40896611  Condo in New York · ★4.91 · Studio · 1 bed · 1...   \n",
              "\n",
              "     host_id           host_name neighbourhood_group       neighbourhood  \\\n",
              "0    7130382              Walter            Brooklyn        Clinton Hill   \n",
              "1   51501835            Jeniffer           Manhattan      Hell's Kitchen   \n",
              "2  528871354              Joshua           Manhattan             Chelsea   \n",
              "3   19902271  John And Catherine           Manhattan  Washington Heights   \n",
              "4   61391963      Stay With Vibe           Manhattan         Murray Hill   \n",
              "\n",
              "    latitude  longitude        room_type  price  ...  last_review  \\\n",
              "0  40.683710 -73.964610     Private room   55.0  ...   2015-12-20   \n",
              "1  40.766610 -73.988100  Entire home/apt  144.0  ...   2023-05-01   \n",
              "2  40.750764 -73.994605  Entire home/apt  187.0  ...   2023-12-18   \n",
              "3  40.835600 -73.942500     Private room  120.0  ...   2023-09-17   \n",
              "4  40.751120 -73.978600  Entire home/apt   85.0  ...   2023-12-03   \n",
              "\n",
              "   reviews_per_month calculated_host_listings_count  availability_365  \\\n",
              "0               0.03                              1                 0   \n",
              "1               0.24                            139               364   \n",
              "2               1.67                              1               343   \n",
              "3               1.38                              2               363   \n",
              "4               0.24                            133               335   \n",
              "\n",
              "   number_of_reviews_ltm     license  rating bedrooms beds          baths  \n",
              "0                      0  No License    5.0         1    1  Not specified  \n",
              "1                      2  No License   4.67         2    1              1  \n",
              "2                      6      Exempt   4.17         1    2              1  \n",
              "3                     12  No License   4.64         1    1              1  \n",
              "4                      3  No License   4.91    Studio    1              1  \n",
              "\n",
              "[5 rows x 22 columns]"
            ],
            "text/html": [
              "\n",
              "  <div id=\"df-12d39da5-f180-4f65-b153-c406c86d0fd9\" class=\"colab-df-container\">\n",
              "    <div>\n",
              "<style scoped>\n",
              "    .dataframe tbody tr th:only-of-type {\n",
              "        vertical-align: middle;\n",
              "    }\n",
              "\n",
              "    .dataframe tbody tr th {\n",
              "        vertical-align: top;\n",
              "    }\n",
              "\n",
              "    .dataframe thead th {\n",
              "        text-align: right;\n",
              "    }\n",
              "</style>\n",
              "<table border=\"1\" class=\"dataframe\">\n",
              "  <thead>\n",
              "    <tr style=\"text-align: right;\">\n",
              "      <th></th>\n",
              "      <th>id</th>\n",
              "      <th>name</th>\n",
              "      <th>host_id</th>\n",
              "      <th>host_name</th>\n",
              "      <th>neighbourhood_group</th>\n",
              "      <th>neighbourhood</th>\n",
              "      <th>latitude</th>\n",
              "      <th>longitude</th>\n",
              "      <th>room_type</th>\n",
              "      <th>price</th>\n",
              "      <th>...</th>\n",
              "      <th>last_review</th>\n",
              "      <th>reviews_per_month</th>\n",
              "      <th>calculated_host_listings_count</th>\n",
              "      <th>availability_365</th>\n",
              "      <th>number_of_reviews_ltm</th>\n",
              "      <th>license</th>\n",
              "      <th>rating</th>\n",
              "      <th>bedrooms</th>\n",
              "      <th>beds</th>\n",
              "      <th>baths</th>\n",
              "    </tr>\n",
              "  </thead>\n",
              "  <tbody>\n",
              "    <tr>\n",
              "      <th>0</th>\n",
              "      <td>1312228</td>\n",
              "      <td>Rental unit in Brooklyn · ★5.0 · 1 bedroom</td>\n",
              "      <td>7130382</td>\n",
              "      <td>Walter</td>\n",
              "      <td>Brooklyn</td>\n",
              "      <td>Clinton Hill</td>\n",
              "      <td>40.683710</td>\n",
              "      <td>-73.964610</td>\n",
              "      <td>Private room</td>\n",
              "      <td>55.0</td>\n",
              "      <td>...</td>\n",
              "      <td>2015-12-20</td>\n",
              "      <td>0.03</td>\n",
              "      <td>1</td>\n",
              "      <td>0</td>\n",
              "      <td>0</td>\n",
              "      <td>No License</td>\n",
              "      <td>5.0</td>\n",
              "      <td>1</td>\n",
              "      <td>1</td>\n",
              "      <td>Not specified</td>\n",
              "    </tr>\n",
              "    <tr>\n",
              "      <th>1</th>\n",
              "      <td>45277537</td>\n",
              "      <td>Rental unit in New York · ★4.67 · 2 bedrooms ·...</td>\n",
              "      <td>51501835</td>\n",
              "      <td>Jeniffer</td>\n",
              "      <td>Manhattan</td>\n",
              "      <td>Hell's Kitchen</td>\n",
              "      <td>40.766610</td>\n",
              "      <td>-73.988100</td>\n",
              "      <td>Entire home/apt</td>\n",
              "      <td>144.0</td>\n",
              "      <td>...</td>\n",
              "      <td>2023-05-01</td>\n",
              "      <td>0.24</td>\n",
              "      <td>139</td>\n",
              "      <td>364</td>\n",
              "      <td>2</td>\n",
              "      <td>No License</td>\n",
              "      <td>4.67</td>\n",
              "      <td>2</td>\n",
              "      <td>1</td>\n",
              "      <td>1</td>\n",
              "    </tr>\n",
              "    <tr>\n",
              "      <th>2</th>\n",
              "      <td>971353993633883038</td>\n",
              "      <td>Rental unit in New York · ★4.17 · 1 bedroom · ...</td>\n",
              "      <td>528871354</td>\n",
              "      <td>Joshua</td>\n",
              "      <td>Manhattan</td>\n",
              "      <td>Chelsea</td>\n",
              "      <td>40.750764</td>\n",
              "      <td>-73.994605</td>\n",
              "      <td>Entire home/apt</td>\n",
              "      <td>187.0</td>\n",
              "      <td>...</td>\n",
              "      <td>2023-12-18</td>\n",
              "      <td>1.67</td>\n",
              "      <td>1</td>\n",
              "      <td>343</td>\n",
              "      <td>6</td>\n",
              "      <td>Exempt</td>\n",
              "      <td>4.17</td>\n",
              "      <td>1</td>\n",
              "      <td>2</td>\n",
              "      <td>1</td>\n",
              "    </tr>\n",
              "    <tr>\n",
              "      <th>3</th>\n",
              "      <td>3857863</td>\n",
              "      <td>Rental unit in New York · ★4.64 · 1 bedroom · ...</td>\n",
              "      <td>19902271</td>\n",
              "      <td>John And Catherine</td>\n",
              "      <td>Manhattan</td>\n",
              "      <td>Washington Heights</td>\n",
              "      <td>40.835600</td>\n",
              "      <td>-73.942500</td>\n",
              "      <td>Private room</td>\n",
              "      <td>120.0</td>\n",
              "      <td>...</td>\n",
              "      <td>2023-09-17</td>\n",
              "      <td>1.38</td>\n",
              "      <td>2</td>\n",
              "      <td>363</td>\n",
              "      <td>12</td>\n",
              "      <td>No License</td>\n",
              "      <td>4.64</td>\n",
              "      <td>1</td>\n",
              "      <td>1</td>\n",
              "      <td>1</td>\n",
              "    </tr>\n",
              "    <tr>\n",
              "      <th>4</th>\n",
              "      <td>40896611</td>\n",
              "      <td>Condo in New York · ★4.91 · Studio · 1 bed · 1...</td>\n",
              "      <td>61391963</td>\n",
              "      <td>Stay With Vibe</td>\n",
              "      <td>Manhattan</td>\n",
              "      <td>Murray Hill</td>\n",
              "      <td>40.751120</td>\n",
              "      <td>-73.978600</td>\n",
              "      <td>Entire home/apt</td>\n",
              "      <td>85.0</td>\n",
              "      <td>...</td>\n",
              "      <td>2023-12-03</td>\n",
              "      <td>0.24</td>\n",
              "      <td>133</td>\n",
              "      <td>335</td>\n",
              "      <td>3</td>\n",
              "      <td>No License</td>\n",
              "      <td>4.91</td>\n",
              "      <td>Studio</td>\n",
              "      <td>1</td>\n",
              "      <td>1</td>\n",
              "    </tr>\n",
              "  </tbody>\n",
              "</table>\n",
              "<p>5 rows × 22 columns</p>\n",
              "</div>\n",
              "    <div class=\"colab-df-buttons\">\n",
              "\n",
              "  <div class=\"colab-df-container\">\n",
              "    <button class=\"colab-df-convert\" onclick=\"convertToInteractive('df-12d39da5-f180-4f65-b153-c406c86d0fd9')\"\n",
              "            title=\"Convert this dataframe to an interactive table.\"\n",
              "            style=\"display:none;\">\n",
              "\n",
              "  <svg xmlns=\"http://www.w3.org/2000/svg\" height=\"24px\" viewBox=\"0 -960 960 960\">\n",
              "    <path d=\"M120-120v-720h720v720H120Zm60-500h600v-160H180v160Zm220 220h160v-160H400v160Zm0 220h160v-160H400v160ZM180-400h160v-160H180v160Zm440 0h160v-160H620v160ZM180-180h160v-160H180v160Zm440 0h160v-160H620v160Z\"/>\n",
              "  </svg>\n",
              "    </button>\n",
              "\n",
              "  <style>\n",
              "    .colab-df-container {\n",
              "      display:flex;\n",
              "      gap: 12px;\n",
              "    }\n",
              "\n",
              "    .colab-df-convert {\n",
              "      background-color: #E8F0FE;\n",
              "      border: none;\n",
              "      border-radius: 50%;\n",
              "      cursor: pointer;\n",
              "      display: none;\n",
              "      fill: #1967D2;\n",
              "      height: 32px;\n",
              "      padding: 0 0 0 0;\n",
              "      width: 32px;\n",
              "    }\n",
              "\n",
              "    .colab-df-convert:hover {\n",
              "      background-color: #E2EBFA;\n",
              "      box-shadow: 0px 1px 2px rgba(60, 64, 67, 0.3), 0px 1px 3px 1px rgba(60, 64, 67, 0.15);\n",
              "      fill: #174EA6;\n",
              "    }\n",
              "\n",
              "    .colab-df-buttons div {\n",
              "      margin-bottom: 4px;\n",
              "    }\n",
              "\n",
              "    [theme=dark] .colab-df-convert {\n",
              "      background-color: #3B4455;\n",
              "      fill: #D2E3FC;\n",
              "    }\n",
              "\n",
              "    [theme=dark] .colab-df-convert:hover {\n",
              "      background-color: #434B5C;\n",
              "      box-shadow: 0px 1px 3px 1px rgba(0, 0, 0, 0.15);\n",
              "      filter: drop-shadow(0px 1px 2px rgba(0, 0, 0, 0.3));\n",
              "      fill: #FFFFFF;\n",
              "    }\n",
              "  </style>\n",
              "\n",
              "    <script>\n",
              "      const buttonEl =\n",
              "        document.querySelector('#df-12d39da5-f180-4f65-b153-c406c86d0fd9 button.colab-df-convert');\n",
              "      buttonEl.style.display =\n",
              "        google.colab.kernel.accessAllowed ? 'block' : 'none';\n",
              "\n",
              "      async function convertToInteractive(key) {\n",
              "        const element = document.querySelector('#df-12d39da5-f180-4f65-b153-c406c86d0fd9');\n",
              "        const dataTable =\n",
              "          await google.colab.kernel.invokeFunction('convertToInteractive',\n",
              "                                                    [key], {});\n",
              "        if (!dataTable) return;\n",
              "\n",
              "        const docLinkHtml = 'Like what you see? Visit the ' +\n",
              "          '<a target=\"_blank\" href=https://colab.research.google.com/notebooks/data_table.ipynb>data table notebook</a>'\n",
              "          + ' to learn more about interactive tables.';\n",
              "        element.innerHTML = '';\n",
              "        dataTable['output_type'] = 'display_data';\n",
              "        await google.colab.output.renderOutput(dataTable, element);\n",
              "        const docLink = document.createElement('div');\n",
              "        docLink.innerHTML = docLinkHtml;\n",
              "        element.appendChild(docLink);\n",
              "      }\n",
              "    </script>\n",
              "  </div>\n",
              "\n",
              "\n",
              "<div id=\"df-049f006d-e590-4f62-aa6f-60c4d3350c48\">\n",
              "  <button class=\"colab-df-quickchart\" onclick=\"quickchart('df-049f006d-e590-4f62-aa6f-60c4d3350c48')\"\n",
              "            title=\"Suggest charts\"\n",
              "            style=\"display:none;\">\n",
              "\n",
              "<svg xmlns=\"http://www.w3.org/2000/svg\" height=\"24px\"viewBox=\"0 0 24 24\"\n",
              "     width=\"24px\">\n",
              "    <g>\n",
              "        <path d=\"M19 3H5c-1.1 0-2 .9-2 2v14c0 1.1.9 2 2 2h14c1.1 0 2-.9 2-2V5c0-1.1-.9-2-2-2zM9 17H7v-7h2v7zm4 0h-2V7h2v10zm4 0h-2v-4h2v4z\"/>\n",
              "    </g>\n",
              "</svg>\n",
              "  </button>\n",
              "\n",
              "<style>\n",
              "  .colab-df-quickchart {\n",
              "      --bg-color: #E8F0FE;\n",
              "      --fill-color: #1967D2;\n",
              "      --hover-bg-color: #E2EBFA;\n",
              "      --hover-fill-color: #174EA6;\n",
              "      --disabled-fill-color: #AAA;\n",
              "      --disabled-bg-color: #DDD;\n",
              "  }\n",
              "\n",
              "  [theme=dark] .colab-df-quickchart {\n",
              "      --bg-color: #3B4455;\n",
              "      --fill-color: #D2E3FC;\n",
              "      --hover-bg-color: #434B5C;\n",
              "      --hover-fill-color: #FFFFFF;\n",
              "      --disabled-bg-color: #3B4455;\n",
              "      --disabled-fill-color: #666;\n",
              "  }\n",
              "\n",
              "  .colab-df-quickchart {\n",
              "    background-color: var(--bg-color);\n",
              "    border: none;\n",
              "    border-radius: 50%;\n",
              "    cursor: pointer;\n",
              "    display: none;\n",
              "    fill: var(--fill-color);\n",
              "    height: 32px;\n",
              "    padding: 0;\n",
              "    width: 32px;\n",
              "  }\n",
              "\n",
              "  .colab-df-quickchart:hover {\n",
              "    background-color: var(--hover-bg-color);\n",
              "    box-shadow: 0 1px 2px rgba(60, 64, 67, 0.3), 0 1px 3px 1px rgba(60, 64, 67, 0.15);\n",
              "    fill: var(--button-hover-fill-color);\n",
              "  }\n",
              "\n",
              "  .colab-df-quickchart-complete:disabled,\n",
              "  .colab-df-quickchart-complete:disabled:hover {\n",
              "    background-color: var(--disabled-bg-color);\n",
              "    fill: var(--disabled-fill-color);\n",
              "    box-shadow: none;\n",
              "  }\n",
              "\n",
              "  .colab-df-spinner {\n",
              "    border: 2px solid var(--fill-color);\n",
              "    border-color: transparent;\n",
              "    border-bottom-color: var(--fill-color);\n",
              "    animation:\n",
              "      spin 1s steps(1) infinite;\n",
              "  }\n",
              "\n",
              "  @keyframes spin {\n",
              "    0% {\n",
              "      border-color: transparent;\n",
              "      border-bottom-color: var(--fill-color);\n",
              "      border-left-color: var(--fill-color);\n",
              "    }\n",
              "    20% {\n",
              "      border-color: transparent;\n",
              "      border-left-color: var(--fill-color);\n",
              "      border-top-color: var(--fill-color);\n",
              "    }\n",
              "    30% {\n",
              "      border-color: transparent;\n",
              "      border-left-color: var(--fill-color);\n",
              "      border-top-color: var(--fill-color);\n",
              "      border-right-color: var(--fill-color);\n",
              "    }\n",
              "    40% {\n",
              "      border-color: transparent;\n",
              "      border-right-color: var(--fill-color);\n",
              "      border-top-color: var(--fill-color);\n",
              "    }\n",
              "    60% {\n",
              "      border-color: transparent;\n",
              "      border-right-color: var(--fill-color);\n",
              "    }\n",
              "    80% {\n",
              "      border-color: transparent;\n",
              "      border-right-color: var(--fill-color);\n",
              "      border-bottom-color: var(--fill-color);\n",
              "    }\n",
              "    90% {\n",
              "      border-color: transparent;\n",
              "      border-bottom-color: var(--fill-color);\n",
              "    }\n",
              "  }\n",
              "</style>\n",
              "\n",
              "  <script>\n",
              "    async function quickchart(key) {\n",
              "      const quickchartButtonEl =\n",
              "        document.querySelector('#' + key + ' button');\n",
              "      quickchartButtonEl.disabled = true;  // To prevent multiple clicks.\n",
              "      quickchartButtonEl.classList.add('colab-df-spinner');\n",
              "      try {\n",
              "        const charts = await google.colab.kernel.invokeFunction(\n",
              "            'suggestCharts', [key], {});\n",
              "      } catch (error) {\n",
              "        console.error('Error during call to suggestCharts:', error);\n",
              "      }\n",
              "      quickchartButtonEl.classList.remove('colab-df-spinner');\n",
              "      quickchartButtonEl.classList.add('colab-df-quickchart-complete');\n",
              "    }\n",
              "    (() => {\n",
              "      let quickchartButtonEl =\n",
              "        document.querySelector('#df-049f006d-e590-4f62-aa6f-60c4d3350c48 button');\n",
              "      quickchartButtonEl.style.display =\n",
              "        google.colab.kernel.accessAllowed ? 'block' : 'none';\n",
              "    })();\n",
              "  </script>\n",
              "</div>\n",
              "    </div>\n",
              "  </div>\n"
            ]
          },
          "metadata": {},
          "execution_count": 88
        }
      ],
      "source": [
        "df = pd.read_csv('/content/new_york_listings_2024.csv')\n",
        "df.head()"
      ]
    },
    {
      "cell_type": "markdown",
      "metadata": {
        "id": "cDe4151y1yLH"
      },
      "source": [
        "# Exploratory Data Analysis"
      ]
    },
    {
      "cell_type": "code",
      "execution_count": null,
      "metadata": {
        "id": "bJYoS6P2G4FP"
      },
      "outputs": [],
      "source": [
        "housingcolumnnames = ['neighbourhood_group',\n",
        "                      'room_type',\n",
        "                      'minimum_nights',\n",
        "                      'number_of_reviews',\n",
        "                      'reviews_per_month',\n",
        "                      'calculated_host_listings_count',\n",
        "                      'rating',\n",
        "                      'bedrooms',\n",
        "                      'beds',\n",
        "                      'baths']\n",
        "housingtargetname = ['price']"
      ]
    },
    {
      "cell_type": "code",
      "execution_count": null,
      "metadata": {
        "id": "nRdaCnTc1WKX",
        "colab": {
          "base_uri": "https://localhost:8080/"
        },
        "outputId": "18304f10-134d-433f-f1af-8b0aca554bc9"
      },
      "outputs": [
        {
          "output_type": "execute_result",
          "data": {
            "text/plain": [
              "(20745, 25)"
            ]
          },
          "metadata": {},
          "execution_count": 120
        }
      ],
      "source": [
        "df.shape"
      ]
    },
    {
      "cell_type": "code",
      "execution_count": null,
      "metadata": {
        "id": "1Tm4FMUj1eWc",
        "colab": {
          "base_uri": "https://localhost:8080/",
          "height": 337
        },
        "outputId": "3a178552-d1f7-4968-8728-fb8885cf44bc"
      },
      "outputs": [
        {
          "output_type": "execute_result",
          "data": {
            "text/plain": [
              "               price  minimum_nights  number_of_reviews  reviews_per_month  \\\n",
              "count   20745.000000    20745.000000       20745.000000       20745.000000   \n",
              "mean      187.827718       28.560328          42.647722           1.258118   \n",
              "std      1023.115186       33.545917          73.577368           1.904990   \n",
              "min        10.000000        1.000000           1.000000           0.010000   \n",
              "25%        80.000000       30.000000           4.000000           0.210000   \n",
              "50%       125.000000       30.000000          14.000000           0.650000   \n",
              "75%       199.000000       30.000000          49.000000           1.800000   \n",
              "max    100000.000000     1250.000000        1865.000000          75.490000   \n",
              "\n",
              "       calculated_host_listings_count  availability_365  \\\n",
              "count                    20745.000000      20745.000000   \n",
              "mean                        18.850856        206.020631   \n",
              "std                         70.931618        135.079206   \n",
              "min                          1.000000          0.000000   \n",
              "25%                          1.000000         87.000000   \n",
              "50%                          2.000000        215.000000   \n",
              "75%                          5.000000        353.000000   \n",
              "max                        713.000000        365.000000   \n",
              "\n",
              "       number_of_reviews_ltm        rating      bedrooms          beds  \\\n",
              "count           20745.000000  20745.000000  20745.000000  20745.000000   \n",
              "mean               10.854375      4.747933      1.307110      1.724174   \n",
              "std                21.361674      0.268073      0.877483      1.212516   \n",
              "min                 0.000000      1.750000      0.000000      1.000000   \n",
              "25%                 1.000000      4.680000      1.000000      1.000000   \n",
              "50%                 3.000000      4.810000      1.000000      1.000000   \n",
              "75%                15.000000      4.910000      2.000000      2.000000   \n",
              "max              1075.000000      5.000000     15.000000     42.000000   \n",
              "\n",
              "       room_type_Entire home/apt  room_type_Hotel room  \\\n",
              "count               20745.000000          20745.000000   \n",
              "mean                    0.556712              0.005399   \n",
              "std                     0.496785              0.073280   \n",
              "min                     0.000000              0.000000   \n",
              "25%                     0.000000              0.000000   \n",
              "50%                     1.000000              0.000000   \n",
              "75%                     1.000000              0.000000   \n",
              "max                     1.000000              1.000000   \n",
              "\n",
              "       room_type_Private room  room_type_Shared room  \\\n",
              "count            20745.000000           20745.000000   \n",
              "mean                 0.423765               0.014124   \n",
              "std                  0.494166               0.118005   \n",
              "min                  0.000000               0.000000   \n",
              "25%                  0.000000               0.000000   \n",
              "50%                  0.000000               0.000000   \n",
              "75%                  1.000000               0.000000   \n",
              "max                  1.000000               1.000000   \n",
              "\n",
              "       neighbourhood_group_Bronx  neighbourhood_group_Brooklyn  \\\n",
              "count               20745.000000                  20745.000000   \n",
              "mean                    0.045746                      0.371800   \n",
              "std                     0.208939                      0.483297   \n",
              "min                     0.000000                      0.000000   \n",
              "25%                     0.000000                      0.000000   \n",
              "50%                     0.000000                      0.000000   \n",
              "75%                     0.000000                      1.000000   \n",
              "max                     1.000000                      1.000000   \n",
              "\n",
              "       neighbourhood_group_Manhattan  neighbourhood_group_Queens  \\\n",
              "count                   20745.000000                20745.000000   \n",
              "mean                        0.387178                    0.181248   \n",
              "std                         0.487117                    0.385233   \n",
              "min                         0.000000                    0.000000   \n",
              "25%                         0.000000                    0.000000   \n",
              "50%                         0.000000                    0.000000   \n",
              "75%                         1.000000                    0.000000   \n",
              "max                         1.000000                    1.000000   \n",
              "\n",
              "       neighbourhood_group_Staten Island  \n",
              "count                       20745.000000  \n",
              "mean                            0.014027  \n",
              "std                             0.117607  \n",
              "min                             0.000000  \n",
              "25%                             0.000000  \n",
              "50%                             0.000000  \n",
              "75%                             0.000000  \n",
              "max                             1.000000  "
            ],
            "text/html": [
              "\n",
              "  <div id=\"df-90809ec0-1f51-4819-9456-b97ee213f346\" class=\"colab-df-container\">\n",
              "    <div>\n",
              "<style scoped>\n",
              "    .dataframe tbody tr th:only-of-type {\n",
              "        vertical-align: middle;\n",
              "    }\n",
              "\n",
              "    .dataframe tbody tr th {\n",
              "        vertical-align: top;\n",
              "    }\n",
              "\n",
              "    .dataframe thead th {\n",
              "        text-align: right;\n",
              "    }\n",
              "</style>\n",
              "<table border=\"1\" class=\"dataframe\">\n",
              "  <thead>\n",
              "    <tr style=\"text-align: right;\">\n",
              "      <th></th>\n",
              "      <th>price</th>\n",
              "      <th>minimum_nights</th>\n",
              "      <th>number_of_reviews</th>\n",
              "      <th>reviews_per_month</th>\n",
              "      <th>calculated_host_listings_count</th>\n",
              "      <th>availability_365</th>\n",
              "      <th>number_of_reviews_ltm</th>\n",
              "      <th>rating</th>\n",
              "      <th>bedrooms</th>\n",
              "      <th>beds</th>\n",
              "      <th>room_type_Entire home/apt</th>\n",
              "      <th>room_type_Hotel room</th>\n",
              "      <th>room_type_Private room</th>\n",
              "      <th>room_type_Shared room</th>\n",
              "      <th>neighbourhood_group_Bronx</th>\n",
              "      <th>neighbourhood_group_Brooklyn</th>\n",
              "      <th>neighbourhood_group_Manhattan</th>\n",
              "      <th>neighbourhood_group_Queens</th>\n",
              "      <th>neighbourhood_group_Staten Island</th>\n",
              "    </tr>\n",
              "  </thead>\n",
              "  <tbody>\n",
              "    <tr>\n",
              "      <th>count</th>\n",
              "      <td>20745.000000</td>\n",
              "      <td>20745.000000</td>\n",
              "      <td>20745.000000</td>\n",
              "      <td>20745.000000</td>\n",
              "      <td>20745.000000</td>\n",
              "      <td>20745.000000</td>\n",
              "      <td>20745.000000</td>\n",
              "      <td>20745.000000</td>\n",
              "      <td>20745.000000</td>\n",
              "      <td>20745.000000</td>\n",
              "      <td>20745.000000</td>\n",
              "      <td>20745.000000</td>\n",
              "      <td>20745.000000</td>\n",
              "      <td>20745.000000</td>\n",
              "      <td>20745.000000</td>\n",
              "      <td>20745.000000</td>\n",
              "      <td>20745.000000</td>\n",
              "      <td>20745.000000</td>\n",
              "      <td>20745.000000</td>\n",
              "    </tr>\n",
              "    <tr>\n",
              "      <th>mean</th>\n",
              "      <td>187.827718</td>\n",
              "      <td>28.560328</td>\n",
              "      <td>42.647722</td>\n",
              "      <td>1.258118</td>\n",
              "      <td>18.850856</td>\n",
              "      <td>206.020631</td>\n",
              "      <td>10.854375</td>\n",
              "      <td>4.747933</td>\n",
              "      <td>1.307110</td>\n",
              "      <td>1.724174</td>\n",
              "      <td>0.556712</td>\n",
              "      <td>0.005399</td>\n",
              "      <td>0.423765</td>\n",
              "      <td>0.014124</td>\n",
              "      <td>0.045746</td>\n",
              "      <td>0.371800</td>\n",
              "      <td>0.387178</td>\n",
              "      <td>0.181248</td>\n",
              "      <td>0.014027</td>\n",
              "    </tr>\n",
              "    <tr>\n",
              "      <th>std</th>\n",
              "      <td>1023.115186</td>\n",
              "      <td>33.545917</td>\n",
              "      <td>73.577368</td>\n",
              "      <td>1.904990</td>\n",
              "      <td>70.931618</td>\n",
              "      <td>135.079206</td>\n",
              "      <td>21.361674</td>\n",
              "      <td>0.268073</td>\n",
              "      <td>0.877483</td>\n",
              "      <td>1.212516</td>\n",
              "      <td>0.496785</td>\n",
              "      <td>0.073280</td>\n",
              "      <td>0.494166</td>\n",
              "      <td>0.118005</td>\n",
              "      <td>0.208939</td>\n",
              "      <td>0.483297</td>\n",
              "      <td>0.487117</td>\n",
              "      <td>0.385233</td>\n",
              "      <td>0.117607</td>\n",
              "    </tr>\n",
              "    <tr>\n",
              "      <th>min</th>\n",
              "      <td>10.000000</td>\n",
              "      <td>1.000000</td>\n",
              "      <td>1.000000</td>\n",
              "      <td>0.010000</td>\n",
              "      <td>1.000000</td>\n",
              "      <td>0.000000</td>\n",
              "      <td>0.000000</td>\n",
              "      <td>1.750000</td>\n",
              "      <td>0.000000</td>\n",
              "      <td>1.000000</td>\n",
              "      <td>0.000000</td>\n",
              "      <td>0.000000</td>\n",
              "      <td>0.000000</td>\n",
              "      <td>0.000000</td>\n",
              "      <td>0.000000</td>\n",
              "      <td>0.000000</td>\n",
              "      <td>0.000000</td>\n",
              "      <td>0.000000</td>\n",
              "      <td>0.000000</td>\n",
              "    </tr>\n",
              "    <tr>\n",
              "      <th>25%</th>\n",
              "      <td>80.000000</td>\n",
              "      <td>30.000000</td>\n",
              "      <td>4.000000</td>\n",
              "      <td>0.210000</td>\n",
              "      <td>1.000000</td>\n",
              "      <td>87.000000</td>\n",
              "      <td>1.000000</td>\n",
              "      <td>4.680000</td>\n",
              "      <td>1.000000</td>\n",
              "      <td>1.000000</td>\n",
              "      <td>0.000000</td>\n",
              "      <td>0.000000</td>\n",
              "      <td>0.000000</td>\n",
              "      <td>0.000000</td>\n",
              "      <td>0.000000</td>\n",
              "      <td>0.000000</td>\n",
              "      <td>0.000000</td>\n",
              "      <td>0.000000</td>\n",
              "      <td>0.000000</td>\n",
              "    </tr>\n",
              "    <tr>\n",
              "      <th>50%</th>\n",
              "      <td>125.000000</td>\n",
              "      <td>30.000000</td>\n",
              "      <td>14.000000</td>\n",
              "      <td>0.650000</td>\n",
              "      <td>2.000000</td>\n",
              "      <td>215.000000</td>\n",
              "      <td>3.000000</td>\n",
              "      <td>4.810000</td>\n",
              "      <td>1.000000</td>\n",
              "      <td>1.000000</td>\n",
              "      <td>1.000000</td>\n",
              "      <td>0.000000</td>\n",
              "      <td>0.000000</td>\n",
              "      <td>0.000000</td>\n",
              "      <td>0.000000</td>\n",
              "      <td>0.000000</td>\n",
              "      <td>0.000000</td>\n",
              "      <td>0.000000</td>\n",
              "      <td>0.000000</td>\n",
              "    </tr>\n",
              "    <tr>\n",
              "      <th>75%</th>\n",
              "      <td>199.000000</td>\n",
              "      <td>30.000000</td>\n",
              "      <td>49.000000</td>\n",
              "      <td>1.800000</td>\n",
              "      <td>5.000000</td>\n",
              "      <td>353.000000</td>\n",
              "      <td>15.000000</td>\n",
              "      <td>4.910000</td>\n",
              "      <td>2.000000</td>\n",
              "      <td>2.000000</td>\n",
              "      <td>1.000000</td>\n",
              "      <td>0.000000</td>\n",
              "      <td>1.000000</td>\n",
              "      <td>0.000000</td>\n",
              "      <td>0.000000</td>\n",
              "      <td>1.000000</td>\n",
              "      <td>1.000000</td>\n",
              "      <td>0.000000</td>\n",
              "      <td>0.000000</td>\n",
              "    </tr>\n",
              "    <tr>\n",
              "      <th>max</th>\n",
              "      <td>100000.000000</td>\n",
              "      <td>1250.000000</td>\n",
              "      <td>1865.000000</td>\n",
              "      <td>75.490000</td>\n",
              "      <td>713.000000</td>\n",
              "      <td>365.000000</td>\n",
              "      <td>1075.000000</td>\n",
              "      <td>5.000000</td>\n",
              "      <td>15.000000</td>\n",
              "      <td>42.000000</td>\n",
              "      <td>1.000000</td>\n",
              "      <td>1.000000</td>\n",
              "      <td>1.000000</td>\n",
              "      <td>1.000000</td>\n",
              "      <td>1.000000</td>\n",
              "      <td>1.000000</td>\n",
              "      <td>1.000000</td>\n",
              "      <td>1.000000</td>\n",
              "      <td>1.000000</td>\n",
              "    </tr>\n",
              "  </tbody>\n",
              "</table>\n",
              "</div>\n",
              "    <div class=\"colab-df-buttons\">\n",
              "\n",
              "  <div class=\"colab-df-container\">\n",
              "    <button class=\"colab-df-convert\" onclick=\"convertToInteractive('df-90809ec0-1f51-4819-9456-b97ee213f346')\"\n",
              "            title=\"Convert this dataframe to an interactive table.\"\n",
              "            style=\"display:none;\">\n",
              "\n",
              "  <svg xmlns=\"http://www.w3.org/2000/svg\" height=\"24px\" viewBox=\"0 -960 960 960\">\n",
              "    <path d=\"M120-120v-720h720v720H120Zm60-500h600v-160H180v160Zm220 220h160v-160H400v160Zm0 220h160v-160H400v160ZM180-400h160v-160H180v160Zm440 0h160v-160H620v160ZM180-180h160v-160H180v160Zm440 0h160v-160H620v160Z\"/>\n",
              "  </svg>\n",
              "    </button>\n",
              "\n",
              "  <style>\n",
              "    .colab-df-container {\n",
              "      display:flex;\n",
              "      gap: 12px;\n",
              "    }\n",
              "\n",
              "    .colab-df-convert {\n",
              "      background-color: #E8F0FE;\n",
              "      border: none;\n",
              "      border-radius: 50%;\n",
              "      cursor: pointer;\n",
              "      display: none;\n",
              "      fill: #1967D2;\n",
              "      height: 32px;\n",
              "      padding: 0 0 0 0;\n",
              "      width: 32px;\n",
              "    }\n",
              "\n",
              "    .colab-df-convert:hover {\n",
              "      background-color: #E2EBFA;\n",
              "      box-shadow: 0px 1px 2px rgba(60, 64, 67, 0.3), 0px 1px 3px 1px rgba(60, 64, 67, 0.15);\n",
              "      fill: #174EA6;\n",
              "    }\n",
              "\n",
              "    .colab-df-buttons div {\n",
              "      margin-bottom: 4px;\n",
              "    }\n",
              "\n",
              "    [theme=dark] .colab-df-convert {\n",
              "      background-color: #3B4455;\n",
              "      fill: #D2E3FC;\n",
              "    }\n",
              "\n",
              "    [theme=dark] .colab-df-convert:hover {\n",
              "      background-color: #434B5C;\n",
              "      box-shadow: 0px 1px 3px 1px rgba(0, 0, 0, 0.15);\n",
              "      filter: drop-shadow(0px 1px 2px rgba(0, 0, 0, 0.3));\n",
              "      fill: #FFFFFF;\n",
              "    }\n",
              "  </style>\n",
              "\n",
              "    <script>\n",
              "      const buttonEl =\n",
              "        document.querySelector('#df-90809ec0-1f51-4819-9456-b97ee213f346 button.colab-df-convert');\n",
              "      buttonEl.style.display =\n",
              "        google.colab.kernel.accessAllowed ? 'block' : 'none';\n",
              "\n",
              "      async function convertToInteractive(key) {\n",
              "        const element = document.querySelector('#df-90809ec0-1f51-4819-9456-b97ee213f346');\n",
              "        const dataTable =\n",
              "          await google.colab.kernel.invokeFunction('convertToInteractive',\n",
              "                                                    [key], {});\n",
              "        if (!dataTable) return;\n",
              "\n",
              "        const docLinkHtml = 'Like what you see? Visit the ' +\n",
              "          '<a target=\"_blank\" href=https://colab.research.google.com/notebooks/data_table.ipynb>data table notebook</a>'\n",
              "          + ' to learn more about interactive tables.';\n",
              "        element.innerHTML = '';\n",
              "        dataTable['output_type'] = 'display_data';\n",
              "        await google.colab.output.renderOutput(dataTable, element);\n",
              "        const docLink = document.createElement('div');\n",
              "        docLink.innerHTML = docLinkHtml;\n",
              "        element.appendChild(docLink);\n",
              "      }\n",
              "    </script>\n",
              "  </div>\n",
              "\n",
              "\n",
              "<div id=\"df-ffeaac5a-c7c3-41e5-a445-996d9660611f\">\n",
              "  <button class=\"colab-df-quickchart\" onclick=\"quickchart('df-ffeaac5a-c7c3-41e5-a445-996d9660611f')\"\n",
              "            title=\"Suggest charts\"\n",
              "            style=\"display:none;\">\n",
              "\n",
              "<svg xmlns=\"http://www.w3.org/2000/svg\" height=\"24px\"viewBox=\"0 0 24 24\"\n",
              "     width=\"24px\">\n",
              "    <g>\n",
              "        <path d=\"M19 3H5c-1.1 0-2 .9-2 2v14c0 1.1.9 2 2 2h14c1.1 0 2-.9 2-2V5c0-1.1-.9-2-2-2zM9 17H7v-7h2v7zm4 0h-2V7h2v10zm4 0h-2v-4h2v4z\"/>\n",
              "    </g>\n",
              "</svg>\n",
              "  </button>\n",
              "\n",
              "<style>\n",
              "  .colab-df-quickchart {\n",
              "      --bg-color: #E8F0FE;\n",
              "      --fill-color: #1967D2;\n",
              "      --hover-bg-color: #E2EBFA;\n",
              "      --hover-fill-color: #174EA6;\n",
              "      --disabled-fill-color: #AAA;\n",
              "      --disabled-bg-color: #DDD;\n",
              "  }\n",
              "\n",
              "  [theme=dark] .colab-df-quickchart {\n",
              "      --bg-color: #3B4455;\n",
              "      --fill-color: #D2E3FC;\n",
              "      --hover-bg-color: #434B5C;\n",
              "      --hover-fill-color: #FFFFFF;\n",
              "      --disabled-bg-color: #3B4455;\n",
              "      --disabled-fill-color: #666;\n",
              "  }\n",
              "\n",
              "  .colab-df-quickchart {\n",
              "    background-color: var(--bg-color);\n",
              "    border: none;\n",
              "    border-radius: 50%;\n",
              "    cursor: pointer;\n",
              "    display: none;\n",
              "    fill: var(--fill-color);\n",
              "    height: 32px;\n",
              "    padding: 0;\n",
              "    width: 32px;\n",
              "  }\n",
              "\n",
              "  .colab-df-quickchart:hover {\n",
              "    background-color: var(--hover-bg-color);\n",
              "    box-shadow: 0 1px 2px rgba(60, 64, 67, 0.3), 0 1px 3px 1px rgba(60, 64, 67, 0.15);\n",
              "    fill: var(--button-hover-fill-color);\n",
              "  }\n",
              "\n",
              "  .colab-df-quickchart-complete:disabled,\n",
              "  .colab-df-quickchart-complete:disabled:hover {\n",
              "    background-color: var(--disabled-bg-color);\n",
              "    fill: var(--disabled-fill-color);\n",
              "    box-shadow: none;\n",
              "  }\n",
              "\n",
              "  .colab-df-spinner {\n",
              "    border: 2px solid var(--fill-color);\n",
              "    border-color: transparent;\n",
              "    border-bottom-color: var(--fill-color);\n",
              "    animation:\n",
              "      spin 1s steps(1) infinite;\n",
              "  }\n",
              "\n",
              "  @keyframes spin {\n",
              "    0% {\n",
              "      border-color: transparent;\n",
              "      border-bottom-color: var(--fill-color);\n",
              "      border-left-color: var(--fill-color);\n",
              "    }\n",
              "    20% {\n",
              "      border-color: transparent;\n",
              "      border-left-color: var(--fill-color);\n",
              "      border-top-color: var(--fill-color);\n",
              "    }\n",
              "    30% {\n",
              "      border-color: transparent;\n",
              "      border-left-color: var(--fill-color);\n",
              "      border-top-color: var(--fill-color);\n",
              "      border-right-color: var(--fill-color);\n",
              "    }\n",
              "    40% {\n",
              "      border-color: transparent;\n",
              "      border-right-color: var(--fill-color);\n",
              "      border-top-color: var(--fill-color);\n",
              "    }\n",
              "    60% {\n",
              "      border-color: transparent;\n",
              "      border-right-color: var(--fill-color);\n",
              "    }\n",
              "    80% {\n",
              "      border-color: transparent;\n",
              "      border-right-color: var(--fill-color);\n",
              "      border-bottom-color: var(--fill-color);\n",
              "    }\n",
              "    90% {\n",
              "      border-color: transparent;\n",
              "      border-bottom-color: var(--fill-color);\n",
              "    }\n",
              "  }\n",
              "</style>\n",
              "\n",
              "  <script>\n",
              "    async function quickchart(key) {\n",
              "      const quickchartButtonEl =\n",
              "        document.querySelector('#' + key + ' button');\n",
              "      quickchartButtonEl.disabled = true;  // To prevent multiple clicks.\n",
              "      quickchartButtonEl.classList.add('colab-df-spinner');\n",
              "      try {\n",
              "        const charts = await google.colab.kernel.invokeFunction(\n",
              "            'suggestCharts', [key], {});\n",
              "      } catch (error) {\n",
              "        console.error('Error during call to suggestCharts:', error);\n",
              "      }\n",
              "      quickchartButtonEl.classList.remove('colab-df-spinner');\n",
              "      quickchartButtonEl.classList.add('colab-df-quickchart-complete');\n",
              "    }\n",
              "    (() => {\n",
              "      let quickchartButtonEl =\n",
              "        document.querySelector('#df-ffeaac5a-c7c3-41e5-a445-996d9660611f button');\n",
              "      quickchartButtonEl.style.display =\n",
              "        google.colab.kernel.accessAllowed ? 'block' : 'none';\n",
              "    })();\n",
              "  </script>\n",
              "</div>\n",
              "    </div>\n",
              "  </div>\n"
            ]
          },
          "metadata": {},
          "execution_count": 121
        }
      ],
      "source": [
        "df.describe()"
      ]
    },
    {
      "cell_type": "code",
      "execution_count": null,
      "metadata": {
        "id": "tS7dvVcuI1TC"
      },
      "outputs": [],
      "source": [
        "sns.pairplot(df)"
      ]
    },
    {
      "cell_type": "code",
      "source": [
        "sns.heatmap(df.corr(), vmin=-1, vmax=1, center=0, square=True)\n",
        "# add \"annot=True,\" to see actual values"
      ],
      "metadata": {
        "id": "68mXDqyOPJmP"
      },
      "execution_count": null,
      "outputs": []
    },
    {
      "cell_type": "markdown",
      "metadata": {
        "id": "Y8JwQDYOYBr5"
      },
      "source": [
        "# Target Variable"
      ]
    },
    {
      "cell_type": "code",
      "execution_count": null,
      "metadata": {
        "id": "A5qx1T4FYGEZ"
      },
      "outputs": [],
      "source": [
        "df['price'].describe()"
      ]
    },
    {
      "cell_type": "code",
      "execution_count": null,
      "metadata": {
        "id": "flieUAsJW21f"
      },
      "outputs": [],
      "source": [
        "plt.boxplot(df['price'])\n",
        "plt.ylabel('Price')\n",
        "plt.title('Distribution of AirBNB Prices')\n",
        "\n",
        "plt.show()"
      ]
    },
    {
      "cell_type": "markdown",
      "metadata": {
        "id": "H7UTTP0hxLzS"
      },
      "source": [
        "### Scatterplots for Variables' Relationships with Price"
      ]
    },
    {
      "cell_type": "code",
      "execution_count": null,
      "metadata": {
        "id": "ObxUF9b-xEkM"
      },
      "outputs": [],
      "source": [
        "plt.scatter(df['price'], df['number_of_reviews'])\n",
        "plt.xlabel('Price')\n",
        "plt.ylabel('Number of Reviews')\n",
        "plt.title('Price vs Number of Reviews')\n",
        "\n",
        "plt.show()"
      ]
    },
    {
      "cell_type": "markdown",
      "metadata": {
        "id": "dOb7xRev_wbZ"
      },
      "source": [
        "# Exploring Data"
      ]
    },
    {
      "cell_type": "code",
      "execution_count": null,
      "metadata": {
        "id": "i5TSLQtbV8YY"
      },
      "outputs": [],
      "source": [
        "null_counts = df.isnull().sum()\n",
        "null_counts"
      ]
    },
    {
      "cell_type": "code",
      "execution_count": null,
      "metadata": {
        "id": "h_M0dzy8ATL6"
      },
      "outputs": [],
      "source": [
        "# This is a list of all of the columns in our dataset (features + target)\n",
        "df.columns"
      ]
    },
    {
      "cell_type": "code",
      "execution_count": null,
      "metadata": {
        "id": "AZL_Hr3dBWlb"
      },
      "outputs": [],
      "source": [
        "# This is the number of unique values in each column\n",
        "unique_counts = df.nunique()\n",
        "unique_counts"
      ]
    },
    {
      "cell_type": "code",
      "execution_count": null,
      "metadata": {
        "id": "FRE6LlUyBdNs"
      },
      "outputs": [],
      "source": [
        "# This is the type of value associated with each column\n",
        "column_types = df.dtypes\n",
        "column_types"
      ]
    },
    {
      "cell_type": "code",
      "execution_count": null,
      "metadata": {
        "id": "0pTpobh8_5Sn"
      },
      "outputs": [],
      "source": [
        "# This is a list of all the unique values for the categorical / object type data\n",
        "categorical_cols = [\"name\", \"host_name\", \"neighbourhood_group\", \"room_type\", \"last_review\", \"rating\", \"bedrooms\", \"baths\"]\n",
        "unique_values = {col: df[col].unique() for col in categorical_cols}\n",
        "unique_values"
      ]
    },
    {
      "cell_type": "markdown",
      "source": [
        "## Data Cleaning"
      ],
      "metadata": {
        "id": "A5MWjv_7RaHS"
      }
    },
    {
      "cell_type": "code",
      "source": [
        "# drop feature columns we are not using\n",
        "df.drop(columns=['id', 'name', 'host_id', 'latitude', 'longitude'], inplace=True)\n",
        "df"
      ],
      "metadata": {
        "id": "qOZKAwWRT1Il"
      },
      "execution_count": null,
      "outputs": []
    },
    {
      "cell_type": "code",
      "execution_count": null,
      "metadata": {
        "id": "4E7QM_gPAMIh"
      },
      "outputs": [],
      "source": [
        "# get count of studio string in bedrooms column\n",
        "studio_count = df['bedrooms'].value_counts().get('Studio')\n",
        "studio_count"
      ]
    },
    {
      "cell_type": "code",
      "execution_count": null,
      "metadata": {
        "id": "7i1RN43-DPDI"
      },
      "outputs": [],
      "source": [
        "notspecified_baths = df['baths'].value_counts().get('Not specified')\n",
        "notspecified_baths"
      ]
    },
    {
      "cell_type": "code",
      "source": [
        "df = df[df.baths != 'Not specified']\n",
        "notspecified_baths = df['baths'].value_counts().get('Not specified', 0)\n",
        "notspecified_baths"
      ],
      "metadata": {
        "id": "FIxpLRc9TaLl"
      },
      "execution_count": null,
      "outputs": []
    },
    {
      "cell_type": "code",
      "execution_count": null,
      "metadata": {
        "id": "l0NOLSlID56l"
      },
      "outputs": [],
      "source": [
        "noratings = df['rating'].value_counts().get('No rating')\n",
        "noratings"
      ]
    },
    {
      "cell_type": "code",
      "source": [
        "# replacing new with null so we can impute\n",
        "df.replace('New ', np.nan, inplace=True)\n",
        "new_count = df['rating'].value_counts().get('New ', 0)\n",
        "new_count"
      ],
      "metadata": {
        "id": "PyqWI3rUJpnr"
      },
      "execution_count": null,
      "outputs": []
    },
    {
      "cell_type": "code",
      "source": [
        "# replacing no rating with null so we can impute\n",
        "df.replace('No rating', np.nan, inplace=True)\n",
        "no_ratings_count = df['rating'].value_counts().get('No rating', 0)\n",
        "no_ratings_count"
      ],
      "metadata": {
        "id": "uG1KwrpiJrwU"
      },
      "execution_count": null,
      "outputs": []
    },
    {
      "cell_type": "code",
      "source": [
        "# converting rating column to float\n",
        "df['rating'] = df['rating'].astype(float)\n",
        "\n",
        "# imputing new and no rating values with median of the column\n",
        "df['rating'] = df['rating'].fillna(df['rating'].median())\n",
        "df['rating'].describe()"
      ],
      "metadata": {
        "id": "AchgKjvhJtQn"
      },
      "execution_count": null,
      "outputs": []
    },
    {
      "cell_type": "code",
      "source": [
        "# number of nulls in ratings column should now be zero\n",
        "print(df['rating'].isna().sum())"
      ],
      "metadata": {
        "id": "5Tu1DZwqKkR3"
      },
      "execution_count": null,
      "outputs": []
    },
    {
      "cell_type": "markdown",
      "source": [
        "# Distribution of Numerical Features"
      ],
      "metadata": {
        "id": "XTNsQQiNOtnA"
      }
    },
    {
      "cell_type": "code",
      "source": [
        "# Here is a distribution summary of the min / max / 50% / mean for all the numerical cols\n",
        "numeric_summary = df.select_dtypes(include='number').describe().transpose()\n",
        "numeric_summary[['min', 'max', '50%', 'mean']]"
      ],
      "metadata": {
        "id": "FX3JrXRpLacS"
      },
      "execution_count": null,
      "outputs": []
    },
    {
      "cell_type": "code",
      "source": [
        "# specifically encode whether or not the value of \"bedroom\" was \"studio\", since we reason studio apartments don't have a bedroom,\n",
        "# but are in their own unique situation, hence giving them their own column\n",
        "\n",
        "df['studio'] = (df['bedrooms'] == 'Studio')\n",
        "df['bedrooms'].replace('Studio', '0', inplace=True)\n",
        "\n",
        "# convert value from string to floats, since there is no more \"studio\" value\n",
        "df['bedrooms'] = df['bedrooms'].apply(float)"
      ],
      "metadata": {
        "id": "XqaZTCOsWDK1"
      },
      "execution_count": null,
      "outputs": []
    },
    {
      "cell_type": "code",
      "source": [
        "encoded_neighborhoodgroup_df = pd.get_dummies(df, columns=['neighbourhood_group'])\n",
        "df = encoded_neighborhoodgroup_df.copy()"
      ],
      "metadata": {
        "id": "KoyTyvN-Vx4B"
      },
      "execution_count": null,
      "outputs": []
    },
    {
      "cell_type": "code",
      "source": [
        "# Our new list of columns after one hot encodings\n",
        "df.columns"
      ],
      "metadata": {
        "id": "_aEMHbtpV_SK"
      },
      "execution_count": null,
      "outputs": []
    },
    {
      "cell_type": "markdown",
      "source": [
        "# Distribution of Categorical Features"
      ],
      "metadata": {
        "id": "MVwzytZaOnFf"
      }
    },
    {
      "cell_type": "markdown",
      "source": [
        "### Neighbourhood Group"
      ],
      "metadata": {
        "id": "Kmoe6pDmLnqB"
      }
    },
    {
      "cell_type": "code",
      "source": [
        "df[\"neighbourhood_group\"].value_counts().plot(kind='bar', legend=True)\n",
        "plt.xlabel('Categories')\n",
        "plt.ylabel('Frequency')\n",
        "plt.title(f'Distribution of neighbourhood_group Column')\n",
        "plt.show()\n"
      ],
      "metadata": {
        "id": "iXgc5XwSLi1b"
      },
      "execution_count": null,
      "outputs": []
    },
    {
      "cell_type": "markdown",
      "source": [
        "### Room Type"
      ],
      "metadata": {
        "id": "PRIjNqioMD_C"
      }
    },
    {
      "cell_type": "code",
      "source": [
        "encoded_neighborhoodgroup_df = pd.get_dummies(df, columns=['room_type'])\n",
        "df = encoded_neighborhoodgroup_df.copy()"
      ],
      "metadata": {
        "id": "waoNTrHRVxKl"
      },
      "execution_count": null,
      "outputs": []
    },
    {
      "cell_type": "code",
      "source": [
        "df[\"room_type\"].value_counts().plot(kind='bar', legend=True)\n",
        "plt.xlabel('Categories')\n",
        "plt.ylabel('Frequency')\n",
        "plt.title(f'Distribution of room_type Column')\n",
        "plt.show()"
      ],
      "metadata": {
        "id": "9vohFiB8L7dM"
      },
      "execution_count": null,
      "outputs": []
    },
    {
      "cell_type": "markdown",
      "source": [
        "### Neighbourhood"
      ],
      "metadata": {
        "id": "CLZRrR9RMgwy"
      }
    },
    {
      "cell_type": "code",
      "source": [
        "df[\"neighbourhood\"].value_counts().plot(kind='bar', legend=True)\n",
        "plt.xlabel('Categories')\n",
        "plt.ylabel('Frequency')\n",
        "plt.title(f'Distribution of neighbourhood Column')\n",
        "plt.show()"
      ],
      "metadata": {
        "id": "DutExe3cMu9V"
      },
      "execution_count": null,
      "outputs": []
    },
    {
      "cell_type": "markdown",
      "source": [
        "### Rating"
      ],
      "metadata": {
        "id": "N-U-URrpM18p"
      }
    },
    {
      "cell_type": "code",
      "source": [
        "df[\"rating\"].value_counts().plot(kind='bar', legend=True)\n",
        "plt.xlabel('rating categories')\n",
        "plt.ylabel('Frequency')\n",
        "plt.title(f'Distribution of rating Column')\n",
        "plt.show()"
      ],
      "metadata": {
        "id": "UTznjrHyOI9L"
      },
      "execution_count": null,
      "outputs": []
    },
    {
      "cell_type": "markdown",
      "source": [
        "### Bedrooms"
      ],
      "metadata": {
        "id": "ALnPft7UONbG"
      }
    },
    {
      "cell_type": "code",
      "source": [
        "df[\"bedrooms\"].value_counts().plot(kind='bar', legend=True)\n",
        "plt.xlabel('Categories')\n",
        "plt.ylabel('Frequency')\n",
        "plt.title(f'Distribution of bedrooms Column')\n",
        "plt.show()"
      ],
      "metadata": {
        "id": "jUEY3XYrOQSP"
      },
      "execution_count": null,
      "outputs": []
    },
    {
      "cell_type": "markdown",
      "source": [
        "### Baths\n"
      ],
      "metadata": {
        "id": "12GzGAZIOSZX"
      }
    },
    {
      "cell_type": "code",
      "source": [
        "df[\"baths\"].value_counts().plot(kind='bar', legend=True)\n",
        "plt.xlabel('Categories')\n",
        "plt.ylabel('Frequency')\n",
        "plt.title(f'Distribution of baths Column')\n",
        "plt.show()"
      ],
      "metadata": {
        "id": "P5RisTNZOTLh"
      },
      "execution_count": null,
      "outputs": []
    },
    {
      "cell_type": "markdown",
      "source": [
        "#### One-Hot Encoding"
      ],
      "metadata": {
        "id": "6uqHKp-lVzsv"
      }
    },
    {
      "cell_type": "code",
      "source": [],
      "metadata": {
        "id": "QLfoN6ruXq0p"
      },
      "execution_count": null,
      "outputs": []
    }
  ],
  "metadata": {
    "colab": {
      "provenance": [],
      "collapsed_sections": [
        "Y8JwQDYOYBr5",
        "Kmoe6pDmLnqB",
        "PRIjNqioMD_C",
        "CLZRrR9RMgwy",
        "N-U-URrpM18p",
        "ALnPft7UONbG"
      ],
      "include_colab_link": true
    },
    "kernelspec": {
      "display_name": "Python 3",
      "name": "python3"
    },
    "language_info": {
      "name": "python"
    }
  },
  "nbformat": 4,
  "nbformat_minor": 0
}